{
 "cells": [
  {
   "cell_type": "markdown",
   "metadata": {
    "id": "SEE0vQsW83yB"
   },
   "source": [
    "### 01 - Teste de gravidez\n",
    "Escreva uma célula com controle de fluxos que tem como premissa a existência das seguintes variáveis:\n",
    "\n",
    "- ```sexo``` como ```str``` indicando os valores '**M**' para masculino e '**F**' para feminino  \n",
    "- ```beta_hcg``` que indica a quantidade do beta-HCG no sangue em mUI/mL.\n",
    "\n",
    "A sua tarefa é escrever um código que imprima como resultado \"indivíduo do sexo masculino\" quando sexo = 'M', caso sexo = 'F', se o valor de beta-HCG for maior que 5, retorne \"Positivo\" indicando que a paciente está grávida, e retorne \"Negativo\" caso contrário.\n",
    "\n",
    "Não mexa nos valores da variável ```sexo``` nem em ```beta_hcg```, e escreva um código que funcione para quaisquer valores possíveis de ambos: ```sexo``` = '**M**' ou '**F**' e ```beta_hcg``` assumindo valores inteiros positivos."
   ]
  },
  {
   "cell_type": "code",
   "execution_count": 45,
   "metadata": {
    "id": "cTOc4LG683yE"
   },
   "outputs": [
    {
     "name": "stdout",
     "output_type": "stream",
     "text": [
      "Positivo\n"
     ]
    }
   ],
   "source": [
    "sexo = 'M'\n",
    "beta_hcg = 0\n",
    "\n",
    "# seu código vem abaixo desta linha\n",
    "\n",
    "sexo = 'F'\n",
    "beta_hcg = 15\n",
    "\n",
    "# Verificando as condições\n",
    "if sexo == 'M':\n",
    "    print(\"indivíduo do sexo masculino\")\n",
    "elif sexo == 'F':\n",
    "    if beta_hcg > 5:\n",
    "        print(\"Positivo\")\n",
    "    else:\n",
    "        print(\"Negativo\")\n"
   ]
  },
  {
   "cell_type": "markdown",
   "metadata": {
    "id": "uCoIZDE383yF"
   },
   "source": [
    "### 02 - Renomeando variáveis\n",
    "\n",
    "Vamos ver adiante que uma forma de renomear variáveis de um conjunto de dados é através de dicionários - o dicionário deve conter como chave o nome original, associando a cada chave um único valor (tipo *str*) que contenha o nome novo.\n",
    "\n",
    "A sua tarefa é escrever um dicionário que possa ser utilizado para traduzir as variáveis ```name``` (nome), ```age``` (idade) e ```income``` (renda). Ou seja, esse dicionário deve relacionar as chaves *name, age* e *income* às suas respectivas traduções."
   ]
  },
  {
   "cell_type": "code",
   "execution_count": 15,
   "metadata": {
    "id": "Bh6ijpbu83yG",
    "outputId": "58fbd8da-ed1d-4e05-df85-041c821948f2"
   },
   "outputs": [
    {
     "name": "stdout",
     "output_type": "stream",
     "text": [
      "DataFrame original:\n",
      "     name  age  income\n",
      "0  Danilo   29   40000\n",
      "1   Lucas   32   60000\n",
      "2    Caio   34   70000\n",
      "\n",
      "DataFrame com colunas renomeadas:\n",
      "     nome  idade  renda\n",
      "0  Danilo     29  40000\n",
      "1   Lucas     32  60000\n",
      "2    Caio     34  70000\n"
     ]
    }
   ],
   "source": [
    "dic_renomeacao = {'': ''}\n",
    "dic_renomeacao= {\n",
    "    'name': 'nome',\n",
    "    'age': 'idade',\n",
    "    'income': 'renda'\n",
    "}\n",
    "\n",
    "# Exemplo de DataFrame\n",
    "import pandas as pd\n",
    "\n",
    "\n",
    "dados = pd.DataFrame({\n",
    "    'name': ['Danilo', 'Lucas', 'Caio'],\n",
    "    'age': [29, 32, 34],\n",
    "    'income': [40000, 60000, 70000]\n",
    "})\n",
    "\n",
    "# Exibindo o DataFrame original\n",
    "print(\"DataFrame original:\")\n",
    "print(dados)\n",
    "\n",
    "# Renomeando as colunas usando o dicionário\n",
    "dados_renomeados = dados.rename(columns=dic_renomeacao)\n",
    "\n",
    "# Exibindo o DataFrame com colunas renomeadas\n",
    "print(\"\\nDataFrame com colunas renomeadas:\")\n",
    "print(dados_renomeados)"
   ]
  },
  {
   "cell_type": "markdown",
   "metadata": {
    "id": "95zumO5g83yH"
   },
   "source": [
    "### 03 - É divisível?\n",
    "A sua tarefa é escrever um código que indique se um número ```N``` é divisível por um número P. Escreva um programa que faça essa verificação para quaisquer combinações de ```N``` e ```M``` e devolva uma mensagem indicativa no output."
   ]
  },
  {
   "cell_type": "code",
   "execution_count": 57,
   "metadata": {
    "id": "BR2zOhmN83yI"
   },
   "outputs": [
    {
     "name": "stdout",
     "output_type": "stream",
     "text": [
      "58 não é divisível por 7.\n"
     ]
    }
   ],
   "source": [
    "N = 58\n",
    "M = 7\n",
    "\n",
    "#Seu código\n",
    "if M != 0:  # Certifique-se de que M não é zero para evitar divisão por zero\n",
    "    if N % M == 0:\n",
    "        print(f\"{N} é divisível por {M}.\")\n",
    "    else:\n",
    "        print(f\"{N} não é divisível por {M}.\")\n",
    "else:\n",
    "    print(\"Divisão por zero não é permitida.\")"
   ]
  },
  {
   "cell_type": "markdown",
   "metadata": {
    "id": "0d5Kdrz283yJ"
   },
   "source": [
    "### 04 - Números primos\n",
    "> Um número **N** é primo se e somente se é divisível por 1, -1, por **N** e por -**N**.  \n",
    "\n",
    "Escreva um script que verifica se ```N``` é um número primo, verificando se ```N``` é divisível por todos os números de ```1``` a ```N-1```. Você vai precisar usar alguma ferramenta de *loop* que você aprendeu para isto. No final, devolva uma mensagem no output indicando se o número é primo ou não."
   ]
  },
  {
   "cell_type": "code",
   "execution_count": 59,
   "metadata": {
    "id": "h_lFO-EO83yJ"
   },
   "outputs": [
    {
     "name": "stdout",
     "output_type": "stream",
     "text": [
      "247158701 não é um número primo.\n"
     ]
    }
   ],
   "source": [
    "N = 247158701\n",
    "\n",
    "# seu código abaixo\n",
    "def numero_primo(N):\n",
    "    # Números menores ou iguais a 1 não são primos\n",
    "    if N <= 1:\n",
    "        return False\n",
    "    # Verificando se N é divisível por algum número de 2 até N-1\n",
    "    for i in range(2, N):\n",
    "        if N % i == 0:\n",
    "            return False\n",
    "    return True\n",
    "\n",
    "# Exibindo o resultado\n",
    "if numero_primo(N):\n",
    "    print(f\"{N} é um número primo.\")\n",
    "else:\n",
    "    print(f\"{N} não é um número primo.\")"
   ]
  },
  {
   "cell_type": "markdown",
   "metadata": {
    "id": "zHwDnURO83yK"
   },
   "source": [
    "### 05 - Desafio\n",
    "O algorítmo do exercício anterior não é o mais eficiente. O que você pode fazer para deixá-lo mais eficiente? Ou seja, executar menos comparações, portanto consumir menos tempo.\n",
    "1. Será que precisamos correr o loop até o final sempre?\n",
    "2. Será que precisamos mesmo verificar **todos** os números?\n",
    "3. Será que precisamos ir até N-1?\n",
    "\n",
    "Essas perguntas levam ao tipo de pensamento voltado a deixar um algoritmo mais eficiente. Veja se você consegue melhorar o seu."
   ]
  },
  {
   "cell_type": "code",
   "execution_count": 5,
   "metadata": {
    "id": "DDdwfZOL83yM"
   },
   "outputs": [
    {
     "name": "stdin",
     "output_type": "stream",
     "text": [
      "Qual numero deseja saber se é primo? 37\n"
     ]
    },
    {
     "name": "stdout",
     "output_type": "stream",
     "text": [
      "37 é um número primo.\n"
     ]
    }
   ],
   "source": [
    "N = 98\n",
    "\n",
    "# seu código aqui\n",
    "import math\n",
    "\n",
    "#Verificação inicial:\n",
    "def eh_primo(N):\n",
    "    if N <= 1:\n",
    "        return False\n",
    "    if N == 2:\n",
    "        return True  # 2 é primo\n",
    "    if N % 2 == 0:\n",
    "        return False  # Números pares maiores que 2 não são primos\n",
    "    limite = int(math.sqrt(N)) + 1 #Verificação até a raiz quadrada de N\n",
    "    for i in range(3, limite, 2): #Verificação apenas de números ímpares a partir do 3\n",
    "        if N % i == 0:\n",
    "            return False\n",
    "    return True\n",
    "\n",
    "# Exemplo prático:\n",
    "N = int(input(\"Qual numero deseja saber se é primo?\"))\n",
    "if eh_primo(N):\n",
    "    print(f\"{N} é um número primo.\")\n",
    "else:\n",
    "    print(f\"{N} não é um número primo.\")\n"
   ]
  },
  {
   "cell_type": "markdown",
   "metadata": {
    "id": "4zhVSQan83yN"
   },
   "source": [
    "### 06 - Peso ideal 1\n",
    "O IMC (índice de massa corpórea) é um indicador de saúde mais bem aceito que o peso. Ele é calculado como:\n",
    "\n",
    "$$ IMC = \\dfrac{peso}{altura^2}$$\n",
    "\n",
    "Segundo a OMS, valores *normais* são entre 18.5 e 24.9.\n",
    "\n",
    "Sua tarefa é encontrar o ponto médio dessa faixa."
   ]
  },
  {
   "cell_type": "code",
   "execution_count": 11,
   "metadata": {
    "id": "3DzxicN983yO",
    "outputId": "6a947e58-88b2-4764-a9ca-717b971adb3d"
   },
   "outputs": [
    {
     "name": "stdout",
     "output_type": "stream",
     "text": [
      "O imc ideal da faixa normal é 21.70\n"
     ]
    }
   ],
   "source": [
    "#Para encontrar o peso ideal, basta somar ambos valores e dividir por 2, pois temos apenas duas amostras.\n",
    "imc_min = 18.5\n",
    "imc_max = 24.9\n",
    "\n",
    "# Cálculo do ponto médio:\n",
    "imc_ideal = (imc_min + imc_max) / 2\n",
    "\n",
    "# Exibindo o resultado:\n",
    "print(f\"O imc ideal da faixa normal é {imc_ideal:.2f}\")"
   ]
  },
  {
   "cell_type": "markdown",
   "metadata": {
    "id": "Z8uBOym483yP"
   },
   "source": [
    "### 07 - Peso ideal 2\n",
    "Recebendo um valor de altura, encontre o peso '*ideal*' dessa pessoa, que fornece o IMC encontrado acima"
   ]
  },
  {
   "cell_type": "code",
   "execution_count": 19,
   "metadata": {
    "id": "rrNwycte83yP",
    "outputId": "0e63b2ff-3743-48c7-a472-b48a450a0867"
   },
   "outputs": [
    {
     "name": "stdout",
     "output_type": "stream",
     "text": [
      "O peso ideal de um indivíduo com altura de 1.76 m é 67.22 kg.\n"
     ]
    }
   ],
   "source": [
    "# Seu código\n",
    "def calcular_peso_ideal(altura):\n",
    "    imc_medio = 21.70\n",
    "    peso_ideal = imc_medio * (altura ** 2)\n",
    "    return peso_ideal\n",
    "#Definição da altura do indivíduo:\n",
    "altura = 1.76\n",
    "\n",
    "# Exemplo de uso:\n",
    "peso_ideal = calcular_peso_ideal(altura)\n",
    "\n",
    "print(f\"O peso ideal de um indivíduo com altura de {altura:.2f} m é {peso_ideal:.2f} kg.\")"
   ]
  },
  {
   "cell_type": "markdown",
   "metadata": {
    "id": "zEdM6J_i83yP"
   },
   "source": [
    "### 08 - Peso ideal 3\n",
    "Dada uma lista contendo as alturas de pacientes, crie uma nova lista que contenha o peso '*ideal*' (que fornece o IMC calculado em **Peso ideal 1**) desses pacientes."
   ]
  },
  {
   "cell_type": "code",
   "execution_count": 23,
   "metadata": {
    "id": "KN1mB_My83yQ",
    "outputId": "f070d54d-c156-4546-e3c7-b5bc500059d9"
   },
   "outputs": [
    {
     "name": "stdout",
     "output_type": "stream",
     "text": [
      "A altura de 1.95 m corresponde a um peso ideal de 82.51 kg.\n",
      "A altura de 2.05 m corresponde a um peso ideal de 91.19 kg.\n",
      "A altura de 1.70 m corresponde a um peso ideal de 62.71 kg.\n",
      "A altura de 1.65 m corresponde a um peso ideal de 59.08 kg.\n"
     ]
    }
   ],
   "source": [
    "# seu código\n",
    "def calcular_peso_ideal(altura):\n",
    "    imc_medio = 21.70\n",
    "    peso_ideal = imc_medio * (altura ** 2)\n",
    "    return peso_ideal\n",
    "\n",
    "#Lista de pesos ideias:\n",
    "def calcular_pesos_ideais(lista_alturas):\n",
    "    lista_pesos_ideais = []\n",
    "    for altura in lista_alturas:\n",
    "        peso_ideal = calcular_peso_ideal(altura)\n",
    "        lista_pesos_ideais.append(peso_ideal)\n",
    "    return lista_pesos_ideais\n",
    "\n",
    "# Valores fornecidos\n",
    "lista_alturas = [1.95, 2.05, 1.70, 1.65]\n",
    "lista_peso_ideal = calcular_pesos_ideais(lista_alturas)\n",
    "\n",
    "# Exibindo o resultado\n",
    "for altura, peso_ideal in zip(lista_alturas, lista_peso_ideal):\n",
    "    print(f\"A altura de {altura:.2f} m corresponde a um peso ideal de {peso_ideal:.2f} kg.\")"
   ]
  },
  {
   "cell_type": "markdown",
   "metadata": {
    "id": "8OKAtYQM83yQ"
   },
   "source": [
    "### 09 - Peso ideal 4\n",
    "Dada uma lista de tuplas - cada elemento da lista é uma tupla contendo altura e peso de um paciente - crie uma nova lista com o IMC desses pacientes."
   ]
  },
  {
   "cell_type": "code",
   "execution_count": 27,
   "metadata": {
    "id": "FaXgkjzI83yQ",
    "outputId": "8adc5e59-8a72-42db-db6b-6895587e875e"
   },
   "outputs": [
    {
     "name": "stdout",
     "output_type": "stream",
     "text": [
      "O IMC para a altura de 1.80 m e peso de 90.00 kg é 27.78\n",
      "O IMC para a altura de 1.65 m e peso de 75.00 kg é 27.55\n",
      "O IMC para a altura de 1.91 m e peso de 70.00 kg é 19.19\n"
     ]
    },
    {
     "data": {
      "text/plain": [
       "[27.777777777777775, 27.548209366391188, 19.188070502453332]"
      ]
     },
     "execution_count": 27,
     "metadata": {},
     "output_type": "execute_result"
    }
   ],
   "source": [
    "#Lógica do código:\n",
    "def calcular_imc(altura, peso):\n",
    "    return peso / (altura **2)\n",
    "\n",
    "#Lista de tuplas fornecida:\n",
    "altura_peso = [(1.80, 90), (1.65, 75), (1.91, 70)]\n",
    "\n",
    "#Armazenamento dos IMCs:\n",
    "imc = []\n",
    "\n",
    "# seu código\n",
    "for altura, peso in altura_peso:\n",
    "    imc_valor = calcular_imc(altura, peso)\n",
    "    imc.append(imc_valor)\n",
    "\n",
    "#Exibindo os resultados:\n",
    "for i, (altura,peso) in enumerate(altura_peso):\n",
    "    print(f\"O IMC para a altura de {altura:.2f} m e peso de {peso:.2f} kg é {imc[i]:.2f}\")\n",
    "\n",
    "#Lista dos IMCs:\n",
    "imc"
   ]
  },
  {
   "cell_type": "markdown",
   "metadata": {
    "id": "kZdSJqJq83yR"
   },
   "source": [
    "### 10 - Peso ideal 5\n",
    "Dada uma lista de **listas** - cada elemento da lista é uma **lista** contendo altura e peso de um paciente, adicione mais um elemento à lista de cada paciente contendo o IMC do paciente. Verifique também se é 'baixo', 'normal' ou 'alto' segundo os padrões da OMS em que normal é entre 18.5 e 24.9.\n",
    "\n",
    "Reflexão: por que no problema anterior temos que criar uma nova lista, e não podemos adicionar os dados de cada indivíduo à tupla?"
   ]
  },
  {
   "cell_type": "code",
   "execution_count": 29,
   "metadata": {
    "id": "EwszojP283yR"
   },
   "outputs": [
    {
     "name": "stdout",
     "output_type": "stream",
     "text": [
      "Altura: 1.80 m, Peso: 90.00 kg, IMC: 27.78, Classificação: alto\n",
      "Altura: 1.65 m, Peso: 75.00 kg, IMC: 27.55, Classificação: alto\n",
      "Altura: 1.91 m, Peso: 70.00 kg, IMC: 19.19, Classificação: normal\n"
     ]
    },
    {
     "data": {
      "text/plain": [
       "[[1.8, 90, 27.777777777777775, 'alto'],\n",
       " [1.65, 75, 27.548209366391188, 'alto'],\n",
       " [1.91, 70, 19.188070502453332, 'normal']]"
      ]
     },
     "execution_count": 29,
     "metadata": {},
     "output_type": "execute_result"
    }
   ],
   "source": [
    "altura_peso = [[1.80, 90], [1.65, 75], [1.91, 70]]\n",
    "\n",
    "# seu código\n",
    "def calcular_imc(altura, peso):\n",
    "    return peso / (altura ** 2)\n",
    "\n",
    "#Lógica para saber se o IMC está alto ou baixo:\n",
    "def classificar_imc(imc):\n",
    "    if imc < 18.5:\n",
    "        return 'baixo'\n",
    "    elif 18.5 <= imc <= 24.9:\n",
    "        return 'normal'\n",
    "    else:\n",
    "        return 'alto'\n",
    "\n",
    "#Adicionando IMC e classificação individual dos pacientes:\n",
    "for paciente in altura_peso:\n",
    "    altura = paciente[0]\n",
    "    peso = paciente[1]\n",
    "    imc_valor = calcular_imc(altura, peso)\n",
    "    classificacao = classificar_imc(imc_valor)\n",
    "    paciente.append(imc_valor)\n",
    "    paciente.append(classificacao)\n",
    "\n",
    "#Mostrando os resultados:\n",
    "for paciente in altura_peso:\n",
    "    print(f\"Altura: {paciente[0]:.2f} m, Peso: {paciente[1]:.2f} kg, IMC: {paciente[2]:.2f}, Classificação: {paciente[3]}\")\n",
    "\n",
    "#Lista\n",
    "altura_peso"
   ]
  }
 ],
 "metadata": {
  "colab": {
   "collapsed_sections": [],
   "provenance": []
  },
  "kernelspec": {
   "display_name": "Python 3 (ipykernel)",
   "language": "python",
   "name": "python3"
  },
  "language_info": {
   "codemirror_mode": {
    "name": "ipython",
    "version": 3
   },
   "file_extension": ".py",
   "mimetype": "text/x-python",
   "name": "python",
   "nbconvert_exporter": "python",
   "pygments_lexer": "ipython3",
   "version": "3.11.7"
  }
 },
 "nbformat": 4,
 "nbformat_minor": 4
}
